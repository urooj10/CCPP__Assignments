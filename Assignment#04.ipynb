{
 "cells": [
  {
   "cell_type": "code",
   "execution_count": 21,
   "metadata": {},
   "outputs": [
    {
     "name": "stdout",
     "output_type": "stream",
     "text": [
      "first_name is  sana\n",
      "last_name is  fatima\n",
      "age is  20\n",
      "city is  karachi\n",
      "\n",
      "\n",
      "\n",
      "after adding qualification\n",
      "\n",
      "first_name is  sana\n",
      "last_name is  fatima\n",
      "age is  20\n",
      "city is  karachi\n",
      "qualification is  undergraduate\n",
      "\n",
      "\n",
      "\n",
      "after updating qualification\n",
      "\n",
      "first_name is  sana\n",
      "last_name is  fatima\n",
      "age is  20\n",
      "city is  karachi\n",
      "qualification is  graduated\n",
      "\n",
      "\n",
      "\n",
      "after deleting qualification\n",
      "\n",
      "first_name is  sana\n",
      "last_name is  fatima\n",
      "age is  20\n",
      "city is  karachi\n",
      "\n",
      "\n",
      "\n"
     ]
    }
   ],
   "source": [
    "#######################################QUESTION NO 01###############################################\n",
    "d={\"first_name\":\"sana\", \"last_name\":\"fatima\",\"age\":20,\"city\":\"karachi\"}\n",
    "for key,value in d.items():\n",
    "    print(key, \"is \", value)\n",
    "print(\"\\n\\n\")\n",
    "#adding qualification \n",
    "d[\"qualification\"]=\"undergraduate\"\n",
    "print(\"after adding qualification\\n\")\n",
    "for key,value in d.items():\n",
    "    print(key, \"is \", value)\n",
    "    \n",
    "print(\"\\n\\n\")\n",
    "#updating Qualification\n",
    "print(\"after updating qualification\\n\")\n",
    "d[\"qualification\"]=\"graduated\"\n",
    "for key,value in d.items():\n",
    "    print(key, \"is \", value)\n",
    "print(\"\\n\\n\")\n",
    "\n",
    "print(\"after deleting qualification\\n\")\n",
    "del d[\"qualification\"]\n",
    "for key,value in d.items():\n",
    "    print(key, \"is \", value)\n",
    "print(\"\\n\\n\")\n",
    "\n",
    "\n",
    "        "
   ]
  },
  {
   "cell_type": "code",
   "execution_count": 16,
   "metadata": {},
   "outputs": [
    {
     "name": "stdout",
     "output_type": "stream",
     "text": [
      "Karachi 's \n",
      "counry = Pakistan\n",
      "Population = 14.91 million\n",
      "Facts = largest city of Pakistan and the world’s second most populous town\n",
      "Lahore 's \n",
      "counry = Pakistan\n",
      "Population = 11.13 million\n",
      "Facts = second largest city of Pakistan and the capital of Punjab province.\n",
      "Islamabad 's \n",
      "counry = Pakistan\n",
      "Population = 1.015 million\n",
      "Facts = beautiful city that serves as the capital of the great nation of Pakistan,\n"
     ]
    }
   ],
   "source": [
    "#######################################QUESTION NO 02###############################################\n",
    "cities={\"Karachi\":{\"counry\":\"Pakistan\",\"Population\":\"14.91 million\",\"Facts\":\"largest city of Pakistan and the world’s second most populous town\"},\"Lahore\":{\"counry\":\"Pakistan\",\"Population\":\"11.13 million\",\"Facts\":\"second largest city of Pakistan and the capital of Punjab province.\"},\"Islamabad\":{\"counry\":\"Pakistan\",\"Population\":\"1.015 million\",\"Facts\":\"beautiful city that serves as the capital of the great nation of Pakistan,\"}}\n",
    "for k,v in cities.items():\n",
    "    print(k,\"'s \")\n",
    "    for a,b in v.items():\n",
    "        print(a,\"=\",b)\n",
    "\n"
   ]
  },
  {
   "cell_type": "code",
   "execution_count": 19,
   "metadata": {},
   "outputs": [
    {
     "name": "stdout",
     "output_type": "stream",
     "text": [
      "Tell me your age then I will tell you the price of the ticket 8\n",
      "Your ticket price is  10$\n",
      "Do you want to continue? Y/N?y\n",
      "Tell me your age then I will tell you the price of the ticket 13\n",
      "Your ticket price is  10$\n",
      "Do you want to continue? Y/N?n\n"
     ]
    }
   ],
   "source": [
    "#######################################QUESTION NO 03###############################################\n",
    "ch=\"Y\"\n",
    "\n",
    "while(ch==\"Y\" or ch==\"y\"):\n",
    "    \n",
    "    age=int(input(\"Tell me your age then I will tell you the price of the ticket \"))\n",
    "    if age>0 and age<3:\n",
    "        print(\"Your ticket is free \")\n",
    "    elif age>=3 & age<=12:\n",
    "        print(\"Your ticket price is  10$\")\n",
    "    elif age<0:\n",
    "        print(\"invalid age\")\n",
    "    elif age>12:\n",
    "        print(\"your ticket price is 15$ \")\n",
    "    ch=input(\"Do you want to continue? Y/N?\")\n",
    "\n",
    "\n"
   ]
  },
  {
   "cell_type": "markdown",
   "metadata": {},
   "source": [
    "def favourite_book(title):\n",
    "    print(\"my favourite book is \", title)\n",
    "favourite_book(\"Alice in wonderland\")"
   ]
  },
  {
   "cell_type": "code",
   "execution_count": 8,
   "metadata": {},
   "outputs": [
    {
     "name": "stdout",
     "output_type": "stream",
     "text": [
      "my favourite book is  Alice in wonderland\n"
     ]
    }
   ],
   "source": [
    "#######################################QUESTION NO 04###############################################\n",
    "def favourite_book(title):\n",
    "    print(\"My favourite book is \", title) \n",
    "favourite_book(\"Alice in wonderland\")"
   ]
  },
  {
   "cell_type": "code",
   "execution_count": null,
   "metadata": {},
   "outputs": [],
   "source": [
    "#######################################QUESTION NO 05###############################################\n",
    "import random\n",
    "num=random.randrange(1,31)\n",
    "print(\"You have 3 chances to guess the number\")\n",
    "i=1\n",
    "while(i<=3):\n",
    "    \n",
    "    print(\"chance # \",i)\n",
    "    guessed_num=int(input(\"to guess your number: \"))\n",
    "    if guessed_num > num:\n",
    "        print(\"number is high\")\n",
    "    elif guessed_num < num:\n",
    "        print(\"Number is low\")\n",
    "    elif guessed_num==num:\n",
    "        break\n",
    "    i+=1\n",
    "if(guessed_num==num):\n",
    "    print(\"Congratulations! you won\")\n",
    "else:\n",
    "    print(\"you lose! Better luck next time\")"
   ]
  }
 ],
 "metadata": {
  "kernelspec": {
   "display_name": "Python 3",
   "language": "python",
   "name": "python3"
  },
  "language_info": {
   "codemirror_mode": {
    "name": "ipython",
    "version": 3
   },
   "file_extension": ".py",
   "mimetype": "text/x-python",
   "name": "python",
   "nbconvert_exporter": "python",
   "pygments_lexer": "ipython3",
   "version": "3.6.5"
  }
 },
 "nbformat": 4,
 "nbformat_minor": 2
}
